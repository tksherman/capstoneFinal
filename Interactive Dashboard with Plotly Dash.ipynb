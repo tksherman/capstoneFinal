{
    "cells": [
        {
            "cell_type": "code",
            "execution_count": 1,
            "id": "035eb0aa",
            "metadata": {},
            "outputs": [
                {
                    "name": "stdout",
                    "output_type": "stream",
                    "text": "Requirement already satisfied: dash==1.19.0 in d:\\documents\\anaconda3\\lib\\site-packages (1.19.0)\nRequirement already satisfied: flask-compress in d:\\documents\\anaconda3\\lib\\site-packages (from dash==1.19.0) (1.10.1)\nRequirement already satisfied: dash-core-components==1.15.0 in d:\\documents\\anaconda3\\lib\\site-packages (from dash==1.19.0) (1.15.0)\nRequirement already satisfied: plotly in d:\\documents\\anaconda3\\lib\\site-packages (from dash==1.19.0) (5.3.1)\nRequirement already satisfied: dash-html-components==1.1.2 in d:\\documents\\anaconda3\\lib\\site-packages (from dash==1.19.0) (1.1.2)\nRequirement already satisfied: dash-table==4.11.2 in d:\\documents\\anaconda3\\lib\\site-packages (from dash==1.19.0) (4.11.2)\nRequirement already satisfied: Flask>=1.0.4 in d:\\documents\\anaconda3\\lib\\site-packages (from dash==1.19.0) (1.1.2)\nRequirement already satisfied: future in d:\\documents\\anaconda3\\lib\\site-packages (from dash==1.19.0) (0.18.2)\nRequirement already satisfied: dash-renderer==1.9.0 in d:\\documents\\anaconda3\\lib\\site-packages (from dash==1.19.0) (1.9.0)\nRequirement already satisfied: Werkzeug>=0.15 in d:\\documents\\anaconda3\\lib\\site-packages (from Flask>=1.0.4->dash==1.19.0) (1.0.1)\nRequirement already satisfied: itsdangerous>=0.24 in d:\\documents\\anaconda3\\lib\\site-packages (from Flask>=1.0.4->dash==1.19.0) (1.1.0)\nRequirement already satisfied: click>=5.1 in d:\\documents\\anaconda3\\lib\\site-packages (from Flask>=1.0.4->dash==1.19.0) (7.1.2)\nRequirement already satisfied: Jinja2>=2.10.1 in d:\\documents\\anaconda3\\lib\\site-packages (from Flask>=1.0.4->dash==1.19.0) (2.11.3)\nRequirement already satisfied: MarkupSafe>=0.23 in d:\\documents\\anaconda3\\lib\\site-packages (from Jinja2>=2.10.1->Flask>=1.0.4->dash==1.19.0) (1.1.1)\nRequirement already satisfied: brotli in d:\\documents\\anaconda3\\lib\\site-packages (from flask-compress->dash==1.19.0) (1.0.9)\nRequirement already satisfied: tenacity>=6.2.0 in d:\\documents\\anaconda3\\lib\\site-packages (from plotly->dash==1.19.0) (8.0.1)\nRequirement already satisfied: six in d:\\documents\\anaconda3\\lib\\site-packages (from plotly->dash==1.19.0) (1.15.0)\nRequirement already satisfied: jupyter_dash in d:\\documents\\anaconda3\\lib\\site-packages (0.4.0)\nRequirement already satisfied: requests in d:\\documents\\anaconda3\\lib\\site-packages (from jupyter_dash) (2.25.1)\nRequirement already satisfied: ipython in d:\\documents\\anaconda3\\lib\\site-packages (from jupyter_dash) (7.22.0)\nRequirement already satisfied: retrying in d:\\documents\\anaconda3\\lib\\site-packages (from jupyter_dash) (1.3.3)\nRequirement already satisfied: ansi2html in d:\\documents\\anaconda3\\lib\\site-packages (from jupyter_dash) (1.6.0)\nRequirement already satisfied: dash in d:\\documents\\anaconda3\\lib\\site-packages (from jupyter_dash) (1.19.0)\nRequirement already satisfied: flask in d:\\documents\\anaconda3\\lib\\site-packages (from jupyter_dash) (1.1.2)\nRequirement already satisfied: ipykernel in d:\\documents\\anaconda3\\lib\\site-packages (from jupyter_dash) (5.3.4)\nRequirement already satisfied: future in d:\\documents\\anaconda3\\lib\\site-packages (from dash->jupyter_dash) (0.18.2)\nRequirement already satisfied: dash-renderer==1.9.0 in d:\\documents\\anaconda3\\lib\\site-packages (from dash->jupyter_dash) (1.9.0)\nRequirement already satisfied: dash-core-components==1.15.0 in d:\\documents\\anaconda3\\lib\\site-packages (from dash->jupyter_dash) (1.15.0)\nRequirement already satisfied: flask-compress in d:\\documents\\anaconda3\\lib\\site-packages (from dash->jupyter_dash) (1.10.1)\nRequirement already satisfied: plotly in d:\\documents\\anaconda3\\lib\\site-packages (from dash->jupyter_dash) (5.3.1)\nRequirement already satisfied: dash-html-components==1.1.2 in d:\\documents\\anaconda3\\lib\\site-packages (from dash->jupyter_dash) (1.1.2)\nRequirement already satisfied: dash-table==4.11.2 in d:\\documents\\anaconda3\\lib\\site-packages (from dash->jupyter_dash) (4.11.2)\nRequirement already satisfied: click>=5.1 in d:\\documents\\anaconda3\\lib\\site-packages (from flask->jupyter_dash) (7.1.2)\nRequirement already satisfied: Werkzeug>=0.15 in d:\\documents\\anaconda3\\lib\\site-packages (from flask->jupyter_dash) (1.0.1)\nRequirement already satisfied: Jinja2>=2.10.1 in d:\\documents\\anaconda3\\lib\\site-packages (from flask->jupyter_dash) (2.11.3)\nRequirement already satisfied: itsdangerous>=0.24 in d:\\documents\\anaconda3\\lib\\site-packages (from flask->jupyter_dash) (1.1.0)\nRequirement already satisfied: MarkupSafe>=0.23 in d:\\documents\\anaconda3\\lib\\site-packages (from Jinja2>=2.10.1->flask->jupyter_dash) (1.1.1)\nRequirement already satisfied: brotli in d:\\documents\\anaconda3\\lib\\site-packages (from flask-compress->dash->jupyter_dash) (1.0.9)\nRequirement already satisfied: traitlets>=4.1.0 in d:\\documents\\anaconda3\\lib\\site-packages (from ipykernel->jupyter_dash) (5.0.5)\nRequirement already satisfied: jupyter-client in d:\\documents\\anaconda3\\lib\\site-packages (from ipykernel->jupyter_dash) (6.1.12)\nRequirement already satisfied: tornado>=4.2 in d:\\documents\\anaconda3\\lib\\site-packages (from ipykernel->jupyter_dash) (6.1)\nRequirement already satisfied: pickleshare in d:\\documents\\anaconda3\\lib\\site-packages (from ipython->jupyter_dash) (0.7.5)\nRequirement already satisfied: setuptools>=18.5 in d:\\documents\\anaconda3\\lib\\site-packages (from ipython->jupyter_dash) (52.0.0.post20210125)\nRequirement already satisfied: pygments in d:\\documents\\anaconda3\\lib\\site-packages (from ipython->jupyter_dash) (2.8.1)\nRequirement already satisfied: jedi>=0.16 in d:\\documents\\anaconda3\\lib\\site-packages (from ipython->jupyter_dash) (0.17.2)\nRequirement already satisfied: backcall in d:\\documents\\anaconda3\\lib\\site-packages (from ipython->jupyter_dash) (0.2.0)\nRequirement already satisfied: prompt-toolkit!=3.0.0,!=3.0.1,<3.1.0,>=2.0.0 in d:\\documents\\anaconda3\\lib\\site-packages (from ipython->jupyter_dash) (3.0.17)\nRequirement already satisfied: decorator in d:\\documents\\anaconda3\\lib\\site-packages (from ipython->jupyter_dash) (5.0.6)\nRequirement already satisfied: colorama in d:\\documents\\anaconda3\\lib\\site-packages (from ipython->jupyter_dash) (0.4.4)\nRequirement already satisfied: parso<0.8.0,>=0.7.0 in d:\\documents\\anaconda3\\lib\\site-packages (from jedi>=0.16->ipython->jupyter_dash) (0.7.0)\nRequirement already satisfied: wcwidth in d:\\documents\\anaconda3\\lib\\site-packages (from prompt-toolkit!=3.0.0,!=3.0.1,<3.1.0,>=2.0.0->ipython->jupyter_dash) (0.2.5)\nRequirement already satisfied: ipython-genutils in d:\\documents\\anaconda3\\lib\\site-packages (from traitlets>=4.1.0->ipykernel->jupyter_dash) (0.2.0)\nRequirement already satisfied: python-dateutil>=2.1 in d:\\documents\\anaconda3\\lib\\site-packages (from jupyter-client->ipykernel->jupyter_dash) (2.8.1)\nRequirement already satisfied: pyzmq>=13 in d:\\documents\\anaconda3\\lib\\site-packages (from jupyter-client->ipykernel->jupyter_dash) (20.0.0)\nRequirement already satisfied: jupyter-core>=4.6.0 in d:\\documents\\anaconda3\\lib\\site-packages (from jupyter-client->ipykernel->jupyter_dash) (4.7.1)\nRequirement already satisfied: pywin32>=1.0 in d:\\documents\\anaconda3\\lib\\site-packages (from jupyter-core>=4.6.0->jupyter-client->ipykernel->jupyter_dash) (227)\nRequirement already satisfied: six>=1.5 in d:\\documents\\anaconda3\\lib\\site-packages (from python-dateutil>=2.1->jupyter-client->ipykernel->jupyter_dash) (1.15.0)\nRequirement already satisfied: tenacity>=6.2.0 in d:\\documents\\anaconda3\\lib\\site-packages (from plotly->dash->jupyter_dash) (8.0.1)\nRequirement already satisfied: certifi>=2017.4.17 in d:\\documents\\anaconda3\\lib\\site-packages (from requests->jupyter_dash) (2020.12.5)\nRequirement already satisfied: chardet<5,>=3.0.2 in d:\\documents\\anaconda3\\lib\\site-packages (from requests->jupyter_dash) (4.0.0)\nRequirement already satisfied: urllib3<1.27,>=1.21.1 in d:\\documents\\anaconda3\\lib\\site-packages (from requests->jupyter_dash) (1.26.4)\nRequirement already satisfied: idna<3,>=2.5 in d:\\documents\\anaconda3\\lib\\site-packages (from requests->jupyter_dash) (2.10)\nRequirement already satisfied: plotly in d:\\documents\\anaconda3\\lib\\site-packages (5.3.1)\nCollecting plotly\n  Downloading plotly-5.4.0-py2.py3-none-any.whl (25.3 MB)\nRequirement already satisfied: six in d:\\documents\\anaconda3\\lib\\site-packages (from plotly) (1.15.0)\nRequirement already satisfied: tenacity>=6.2.0 in d:\\documents\\anaconda3\\lib\\site-packages (from plotly) (8.0.1)\nInstalling collected packages: plotly\n  Attempting uninstall: plotly\n    Found existing installation: plotly 5.3.1\n    Uninstalling plotly-5.3.1:\n      Successfully uninstalled plotly-5.3.1\nSuccessfully installed plotly-5.4.0\n"
                }
            ],
            "source": "!pip install dash==1.19.0 \n!pip install jupyter_dash \n!pip install --upgrade plotly\n"
        },
        {
            "cell_type": "code",
            "execution_count": 4,
            "id": "a742cb12",
            "metadata": {},
            "outputs": [],
            "source": "# Import required libraries\nimport pandas as pd \nimport dash \nimport dash_html_components as html \nimport dash_core_components as dcc \nfrom dash.dependencies import Input, Output \nfrom jupyter_dash import JupyterDash \nimport plotly.graph_objects as go\nimport plotly.express as px"
        },
        {
            "cell_type": "code",
            "execution_count": 5,
            "id": "9cc8c5db",
            "metadata": {},
            "outputs": [
                {
                    "data": {
                        "text/plain": "9600.0"
                    },
                    "execution_count": 5,
                    "metadata": {},
                    "output_type": "execute_result"
                }
            ],
            "source": "# Read the airline data into pandas dataframe\nspacex_df = pd.read_csv(\"https://cf-courses-data.s3.us.cloud-object-storage.appdomain.cloud/IBM-DS0321EN-SkillsNetwork/datasets/spacex_launch_dash.csv\")\n\nmax_payload = spacex_df['Payload Mass (kg)'].max()\nmin_payload = spacex_df['Payload Mass (kg)'].min()\nmax_payload"
        },
        {
            "cell_type": "code",
            "execution_count": 6,
            "id": "e668e808",
            "metadata": {},
            "outputs": [
                {
                    "data": {
                        "text/html": "<div>\n<style scoped>\n    .dataframe tbody tr th:only-of-type {\n        vertical-align: middle;\n    }\n\n    .dataframe tbody tr th {\n        vertical-align: top;\n    }\n\n    .dataframe thead th {\n        text-align: right;\n    }\n</style>\n<table border=\"1\" class=\"dataframe\">\n  <thead>\n    <tr style=\"text-align: right;\">\n      <th></th>\n      <th>Unnamed: 0</th>\n      <th>Flight Number</th>\n      <th>Launch Site</th>\n      <th>Mission Outcome</th>\n      <th>class</th>\n      <th>Payload Mass (kg)</th>\n      <th>Booster Version</th>\n      <th>Booster Version Category</th>\n    </tr>\n  </thead>\n  <tbody>\n    <tr>\n      <th>0</th>\n      <td>0</td>\n      <td>1</td>\n      <td>CCAFS LC-40</td>\n      <td>Success</td>\n      <td>0</td>\n      <td>0.0</td>\n      <td>F9 v1.0  B0003</td>\n      <td>v1.0</td>\n    </tr>\n    <tr>\n      <th>1</th>\n      <td>1</td>\n      <td>2</td>\n      <td>CCAFS LC-40</td>\n      <td>Success</td>\n      <td>0</td>\n      <td>0.0</td>\n      <td>F9 v1.0  B0004</td>\n      <td>v1.0</td>\n    </tr>\n    <tr>\n      <th>2</th>\n      <td>2</td>\n      <td>3</td>\n      <td>CCAFS LC-40</td>\n      <td>Success</td>\n      <td>0</td>\n      <td>525.0</td>\n      <td>F9 v1.0  B0005</td>\n      <td>v1.0</td>\n    </tr>\n    <tr>\n      <th>3</th>\n      <td>3</td>\n      <td>4</td>\n      <td>CCAFS LC-40</td>\n      <td>Success</td>\n      <td>0</td>\n      <td>500.0</td>\n      <td>F9 v1.0  B0006</td>\n      <td>v1.0</td>\n    </tr>\n    <tr>\n      <th>4</th>\n      <td>4</td>\n      <td>5</td>\n      <td>CCAFS LC-40</td>\n      <td>Success</td>\n      <td>0</td>\n      <td>677.0</td>\n      <td>F9 v1.0  B0007</td>\n      <td>v1.0</td>\n    </tr>\n  </tbody>\n</table>\n</div>",
                        "text/plain": "   Unnamed: 0  Flight Number  Launch Site Mission Outcome  class  \\\n0           0              1  CCAFS LC-40         Success      0   \n1           1              2  CCAFS LC-40         Success      0   \n2           2              3  CCAFS LC-40         Success      0   \n3           3              4  CCAFS LC-40         Success      0   \n4           4              5  CCAFS LC-40         Success      0   \n\n   Payload Mass (kg) Booster Version Booster Version Category  \n0                0.0  F9 v1.0  B0003                     v1.0  \n1                0.0  F9 v1.0  B0004                     v1.0  \n2              525.0  F9 v1.0  B0005                     v1.0  \n3              500.0  F9 v1.0  B0006                     v1.0  \n4              677.0  F9 v1.0  B0007                     v1.0  "
                    },
                    "execution_count": 6,
                    "metadata": {},
                    "output_type": "execute_result"
                }
            ],
            "source": "spacex_df.head()"
        },
        {
            "cell_type": "code",
            "execution_count": 7,
            "id": "7d4adada",
            "metadata": {},
            "outputs": [
                {
                    "data": {
                        "text/plain": "array(['CCAFS LC-40', 'VAFB SLC-4E', 'KSC LC-39A', 'CCAFS SLC-40'],\n      dtype=object)"
                    },
                    "execution_count": 7,
                    "metadata": {},
                    "output_type": "execute_result"
                }
            ],
            "source": "spacex_df['Launch Site'].unique()"
        },
        {
            "cell_type": "code",
            "execution_count": 8,
            "id": "1ecb9601",
            "metadata": {},
            "outputs": [
                {
                    "data": {
                        "text/plain": "Index(['Unnamed: 0', 'Flight Number', 'Launch Site', 'Mission Outcome',\n       'class', 'Payload Mass (kg)', 'Booster Version',\n       'Booster Version Category'],\n      dtype='object')"
                    },
                    "execution_count": 8,
                    "metadata": {},
                    "output_type": "execute_result"
                }
            ],
            "source": "spacex_df.columns"
        },
        {
            "cell_type": "code",
            "execution_count": 10,
            "id": "ad28fb55",
            "metadata": {},
            "outputs": [],
            "source": "# Create a dash application\napp = JupyterDash(__name__)\n\n# Create an app layout\napp.layout = html.Div(children=[html.H1('SpaceX Launch Records Dashboard',\n                                        style={'textAlign': 'center', 'color': '#503D36',\n                                               'font-size': 40}),\n# TASK 1: Add a dropdown list to enable Launch Site selection\n# The default select value is for ALL sites\n# dcc.Dropdown(id='site-dropdown',...)\ndcc.Dropdown(id='site-dropdown',\n    options=[\n            {'label': 'All Sites', 'value': 'ALL'},\n            {'label': 'CCAFS LC-40', 'value': 'CCAFS LC-40'},\n            {'label': 'CCAFS SLC-40', 'value': 'CCAFS SLC-40'},\n            {'label': 'KSC LC-39A', 'value': 'KSC LC-39A'},\n            {'label': 'VAFB SLC-4E', 'value': 'VAFB SLC-4E'},\n            ],\n    value='ALL',\n    placeholder=\"Select a Launch Site\",\n    searchable=True\n     ),\nhtml.Br(),\n\n# TASK 2: Add a pie chart to show the total successful launches count for all sites\n# If a specific launch site was selected, show the Success vs. Failed counts for the site\nhtml.Div(dcc.Graph(id='success-pie-chart')),\nhtml.Br(),\n\nhtml.P(\"Payload range (Kg):\"),\n# TASK 3: Add a slider to select payload range\n#dcc.RangeSlider(id='payload-slider',...)\ndcc.RangeSlider(id='payload-slider',\n                min=0, \n                max=10000, \n                step=1000,\n                marks={0: '0', 1000: '1000', 2000: '2000', 3000: '3000', 4000: '4000',\n                      5000: '5000', 6000:'6000', 7000:'7000', 8000:'8000', 9000:'9000',\n                    10000: '10000',\n                      },\n                value=[min_payload, max_payload]),\n                                \n# TASK 4: Add a scatter chart to show the correlation between payload and launch success\nhtml.Div(dcc.Graph(id='success-payload-scatter-chart')),\n                                ])\n\n# TASK 2:\n# Add a callback function for `site-dropdown` as input, `success-pie-chart` as output\n@app.callback(\n    Output(component_id='success-pie-chart', component_property='figure'),\n    Input(component_id='site-dropdown', component_property='value'))\n\ndef get_pie_chart(value):\n    filtered_data = spacex_df[spacex_df['class']==1]\n    data = filtered_data.groupby('Launch Site')['class'].count().reset_index()\n    if value == 'ALL':\n        fig = px.pie(data, values='class', \n        names='Launch Site', \n        title='Success vs. Failed Counts for All Sites')\n    else:\n        filtered_df = spacex_df[spacex_df['Launch Site']==value]\n        pie_data = filtered_df.groupby('class')['Launch Site'].count().reset_index()\n        fig = px.pie(pie_data, values='Launch Site', \n        names='class', \n        title='Success vs. Failure Counts for site: ' + value)\n        \n    return fig\n\n# TASK 4:\n# Add a callback function for `site-dropdown` and `payload-slider` as inputs, `success-payload-scatter-chart` as output\n@app.callback(\n    Output(component_id='success-payload-scatter-chart', component_property='figure'),   \n    Input(component_id='payload-slider', component_property='value'),\n    Input(component_id='site-dropdown', component_property='value'))\n\ndef get_scatter_chart(plvalue, ddvalue):\n    scatter_df = spacex_df[spacex_df['Payload Mass (kg)'].between(plvalue[0], plvalue[1])]\n    scatter_df2 = scatter_df[scatter_df['Launch Site']==ddvalue]\n    #data = spacex_df.groupby('Launch Site')['class'].count().reset_index()\n    #x_data = spacex_df['Payload Mass (kg)']\n   #y_data = spacex_df['class']\n    if ddvalue == 'ALL':\n        fig = px.scatter(\n                scatter_df,\n                x='Payload Mass (kg)', \n                y='class',\n                color='Booster Version Category',      \n                title='Correlation between Payload and Success for All Sites')  \n    else:\n        fig = px.scatter(\n        scatter_df2,\n        x='Payload Mass (kg)', \n        y='class',\n        color='Booster Version Category',      \n        title='Correlation between Payload and Success for Site: ' + ddvalue) \n        \n    return fig\n# Run the app\nif __name__ == '__main__': app.run_server(mode='jupyterlab', port = 8090 ,dev_tools_ui=True, \n    debug=True, dev_tools_hot_reload =True, threaded=True)"
        },
        {
            "cell_type": "code",
            "execution_count": null,
            "id": "55127f05",
            "metadata": {},
            "outputs": [],
            "source": ""
        }
    ],
    "metadata": {
        "kernelspec": {
            "display_name": "Python 3.8",
            "language": "python",
            "name": "python3"
        },
        "language_info": {
            "codemirror_mode": {
                "name": "ipython",
                "version": 3
            },
            "file_extension": ".py",
            "mimetype": "text/x-python",
            "name": "python",
            "nbconvert_exporter": "python",
            "pygments_lexer": "ipython3",
            "version": "3.8.12"
        }
    },
    "nbformat": 4,
    "nbformat_minor": 5
}